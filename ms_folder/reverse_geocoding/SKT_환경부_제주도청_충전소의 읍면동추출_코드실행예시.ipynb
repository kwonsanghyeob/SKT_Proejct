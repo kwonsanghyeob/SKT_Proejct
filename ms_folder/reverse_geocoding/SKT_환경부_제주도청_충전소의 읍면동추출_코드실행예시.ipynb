{
 "cells": [
  {
   "cell_type": "markdown",
   "id": "d8b3fb7d",
   "metadata": {},
   "source": [
    "## SKT_환경부_제주도청_충전소의 읍면동추출_코드실행예시"
   ]
  },
  {
   "cell_type": "markdown",
   "id": "4dfa3585",
   "metadata": {},
   "source": [
    "- 날짜 : 23.01.15"
   ]
  },
  {
   "cell_type": "code",
   "execution_count": 1,
   "id": "49ded23f",
   "metadata": {},
   "outputs": [],
   "source": [
    "from reverse_geocoding_kakao_api import *\n",
    "\n",
    "import os\n",
    "import numpy as np\n",
    "import pandas as pd\n",
    "\n",
    "import json\n",
    "import requests"
   ]
  },
  {
   "cell_type": "markdown",
   "id": "810d81c4",
   "metadata": {},
   "source": [
    "## EV 충전소 정보 데이터 Load"
   ]
  },
  {
   "cell_type": "code",
   "execution_count": 6,
   "id": "763180cc",
   "metadata": {},
   "outputs": [
    {
     "ename": "SyntaxError",
     "evalue": "invalid syntax (1535790340.py, line 3)",
     "output_type": "error",
     "traceback": [
      "\u001b[1;36m  File \u001b[1;32m\"C:\\Users\\my\\AppData\\Local\\Temp\\ipykernel_28236\\1535790340.py\"\u001b[1;36m, line \u001b[1;32m3\u001b[0m\n\u001b[1;33m    filepath = ################################################################## 파일이 담긴 디렉토리 주소\u001b[0m\n\u001b[1;37m                                                                                                ^\u001b[0m\n\u001b[1;31mSyntaxError\u001b[0m\u001b[1;31m:\u001b[0m invalid syntax\n"
     ]
    }
   ],
   "source": [
    "# EV 충전소 정보 데이터 Load\n",
    "\n",
    "filepath = ################################################################## 파일이 담긴 디렉토리 주소\n",
    "filename = ################################################################## csv파일명(충전소 위도, 경도가 있는)\n",
    "\n",
    "print(\"[*] Load the dataset\")\n",
    "stat_df = pd.read_csv(os.path.join(filepath, \"%s.csv\" % filename),\n",
    "                      engine='python', encoding='cp949')\n",
    "\n",
    "display(stat_df)"
   ]
  },
  {
   "cell_type": "markdown",
   "id": "66ebde30",
   "metadata": {},
   "source": [
    "## 읍면동 반환"
   ]
  },
  {
   "cell_type": "code",
   "execution_count": 7,
   "id": "52299642",
   "metadata": {},
   "outputs": [
    {
     "data": {
      "text/html": [
       "<div>\n",
       "<style scoped>\n",
       "    .dataframe tbody tr th:only-of-type {\n",
       "        vertical-align: middle;\n",
       "    }\n",
       "\n",
       "    .dataframe tbody tr th {\n",
       "        vertical-align: top;\n",
       "    }\n",
       "\n",
       "    .dataframe thead th {\n",
       "        text-align: right;\n",
       "    }\n",
       "</style>\n",
       "<table border=\"1\" class=\"dataframe\">\n",
       "  <thead>\n",
       "    <tr style=\"text-align: right;\">\n",
       "      <th></th>\n",
       "      <th>statNm</th>\n",
       "      <th>lat</th>\n",
       "      <th>lng</th>\n",
       "      <th>emd</th>\n",
       "    </tr>\n",
       "  </thead>\n",
       "  <tbody>\n",
       "    <tr>\n",
       "      <th>0</th>\n",
       "      <td>감사위원회</td>\n",
       "      <td>33.255515</td>\n",
       "      <td>126.509196</td>\n",
       "      <td>대륜동</td>\n",
       "    </tr>\n",
       "    <tr>\n",
       "      <th>1</th>\n",
       "      <td>걸매축구장</td>\n",
       "      <td>33.249188</td>\n",
       "      <td>126.554328</td>\n",
       "      <td>천지동</td>\n",
       "    </tr>\n",
       "    <tr>\n",
       "      <th>2</th>\n",
       "      <td>고산동산공영주차장</td>\n",
       "      <td>33.495664</td>\n",
       "      <td>126.531416</td>\n",
       "      <td>이도2동</td>\n",
       "    </tr>\n",
       "    <tr>\n",
       "      <th>3</th>\n",
       "      <td>고성2리경로당</td>\n",
       "      <td>33.435632</td>\n",
       "      <td>126.425245</td>\n",
       "      <td>애월읍</td>\n",
       "    </tr>\n",
       "    <tr>\n",
       "      <th>4</th>\n",
       "      <td>고용복지플러스센터</td>\n",
       "      <td>33.504284</td>\n",
       "      <td>126.52716</td>\n",
       "      <td>이도1동</td>\n",
       "    </tr>\n",
       "    <tr>\n",
       "      <th>...</th>\n",
       "      <td>...</td>\n",
       "      <td>...</td>\n",
       "      <td>...</td>\n",
       "      <td>...</td>\n",
       "    </tr>\n",
       "    <tr>\n",
       "      <th>312</th>\n",
       "      <td>환경시설관리사무소</td>\n",
       "      <td>33.461611</td>\n",
       "      <td>126.62952</td>\n",
       "      <td>봉개동</td>\n",
       "    </tr>\n",
       "    <tr>\n",
       "      <th>313</th>\n",
       "      <td>회수사거리 인근 공영주차장</td>\n",
       "      <td>33.263229</td>\n",
       "      <td>126.442678</td>\n",
       "      <td>중문동</td>\n",
       "    </tr>\n",
       "    <tr>\n",
       "      <th>314</th>\n",
       "      <td>효돈동 공영주차장</td>\n",
       "      <td>33.262647</td>\n",
       "      <td>126.541926</td>\n",
       "      <td>대륜동</td>\n",
       "    </tr>\n",
       "    <tr>\n",
       "      <th>315</th>\n",
       "      <td>효돈동주민센터</td>\n",
       "      <td>33.26323</td>\n",
       "      <td>126.61563</td>\n",
       "      <td>효돈동</td>\n",
       "    </tr>\n",
       "    <tr>\n",
       "      <th>316</th>\n",
       "      <td>효돈축구공원</td>\n",
       "      <td>33.259374</td>\n",
       "      <td>126.610578</td>\n",
       "      <td>효돈동</td>\n",
       "    </tr>\n",
       "  </tbody>\n",
       "</table>\n",
       "<p>317 rows × 4 columns</p>\n",
       "</div>"
      ],
      "text/plain": [
       "             statNm        lat         lng   emd\n",
       "0             감사위원회  33.255515  126.509196   대륜동\n",
       "1             걸매축구장  33.249188  126.554328   천지동\n",
       "2         고산동산공영주차장  33.495664  126.531416  이도2동\n",
       "3           고성2리경로당  33.435632  126.425245   애월읍\n",
       "4         고용복지플러스센터  33.504284   126.52716  이도1동\n",
       "..              ...        ...         ...   ...\n",
       "312       환경시설관리사무소  33.461611   126.62952   봉개동\n",
       "313  회수사거리 인근 공영주차장  33.263229  126.442678   중문동\n",
       "314       효돈동 공영주차장  33.262647  126.541926   대륜동\n",
       "315         효돈동주민센터   33.26323   126.61563   효돈동\n",
       "316          효돈축구공원  33.259374  126.610578   효돈동\n",
       "\n",
       "[317 rows x 4 columns]"
      ]
     },
     "metadata": {},
     "output_type": "display_data"
    }
   ],
   "source": [
    "# 읍면동 반환\n",
    "\n",
    "# 현재 stat_df의 컬럼명은 아래와 같음 (사용자가 지정해놓은 컬럼명으로 수정해서 사용하면 됨)\n",
    "# 충전소명 : statNm\n",
    "# 위도 : lat\n",
    "# 경도 : lng\n",
    "\n",
    "\n",
    "res_df = pd.DataFrame()\n",
    "for i in range(len(stat_df)):\n",
    "    lng, lat = stat_df['lng'][i], stat_df['lat'][i]  # 경도, 위도\n",
    "    \n",
    "    statn = stat_df['statNm'][i]  # 충전소명\n",
    "    \n",
    "    # 읍면동 반환\n",
    "    json_dict_emd = reverse_geocoding_region(lng, lat)\n",
    "    emd = get_region_reverse_geocoding(json_dict_emd)\n",
    "    \n",
    "    res = pd.DataFrame([statn, lat, lng, emd[0]]).T\n",
    "    res_df = pd.concat([res_df, res], axis=0)\n",
    "    \n",
    "res_df.columns = ['statNm', 'lat', 'lng', 'emd']\n",
    "res_df.reset_index(drop=True, inplace=True)\n",
    "\n",
    "display(res_df)"
   ]
  },
  {
   "cell_type": "code",
   "execution_count": null,
   "id": "156d7990",
   "metadata": {},
   "outputs": [],
   "source": []
  }
 ],
 "metadata": {
  "kernelspec": {
   "display_name": "Python 3 (ipykernel)",
   "language": "python",
   "name": "python3"
  },
  "language_info": {
   "codemirror_mode": {
    "name": "ipython",
    "version": 3
   },
   "file_extension": ".py",
   "mimetype": "text/x-python",
   "name": "python",
   "nbconvert_exporter": "python",
   "pygments_lexer": "ipython3",
   "version": "3.7.13"
  }
 },
 "nbformat": 4,
 "nbformat_minor": 5
}

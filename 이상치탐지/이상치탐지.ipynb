{
 "cells": [
  {
   "cell_type": "markdown",
   "id": "b1a191e3",
   "metadata": {},
   "source": [
    "## 이상치탐지"
   ]
  },
  {
   "cell_type": "code",
   "execution_count": 1,
   "id": "bd991c21",
   "metadata": {},
   "outputs": [],
   "source": [
    "import numpy as np\n",
    "import pandas as pd\n",
    "\n",
    "import matplotlib.pyplot as plt"
   ]
  },
  {
   "cell_type": "markdown",
   "id": "3db190dd",
   "metadata": {},
   "source": [
    "## 원본 데이터 Load"
   ]
  },
  {
   "cell_type": "code",
   "execution_count": 2,
   "id": "c34085bf",
   "metadata": {},
   "outputs": [
    {
     "name": "stdout",
     "output_type": "stream",
     "text": [
      "[*] Load the dataset\n"
     ]
    },
    {
     "data": {
      "text/html": [
       "<div>\n",
       "<style scoped>\n",
       "    .dataframe tbody tr th:only-of-type {\n",
       "        vertical-align: middle;\n",
       "    }\n",
       "\n",
       "    .dataframe tbody tr th {\n",
       "        vertical-align: top;\n",
       "    }\n",
       "\n",
       "    .dataframe thead th {\n",
       "        text-align: right;\n",
       "    }\n",
       "</style>\n",
       "<table border=\"1\" class=\"dataframe\">\n",
       "  <thead>\n",
       "    <tr style=\"text-align: right;\">\n",
       "      <th></th>\n",
       "      <th>운영기관</th>\n",
       "      <th>충전소명</th>\n",
       "      <th>충전소ID</th>\n",
       "      <th>충전기명</th>\n",
       "      <th>충전기ID</th>\n",
       "      <th>충전기타입</th>\n",
       "      <th>충전시작시각</th>\n",
       "      <th>충전종료시각</th>\n",
       "      <th>충전시간</th>\n",
       "      <th>충전량</th>\n",
       "      <th>...</th>\n",
       "      <th>충전소구분</th>\n",
       "      <th>주소</th>\n",
       "      <th>충전시작년월일</th>\n",
       "      <th>충전종료년월일</th>\n",
       "      <th>초차이</th>\n",
       "      <th>분차이</th>\n",
       "      <th>충전시작분</th>\n",
       "      <th>충전종료분</th>\n",
       "      <th>최대충전량</th>\n",
       "      <th>충전량차이</th>\n",
       "    </tr>\n",
       "  </thead>\n",
       "  <tbody>\n",
       "    <tr>\n",
       "      <th>0</th>\n",
       "      <td>한국전력</td>\n",
       "      <td>스마트그리드 홍보관</td>\n",
       "      <td>KPxxxx</td>\n",
       "      <td>급속03</td>\n",
       "      <td>579</td>\n",
       "      <td>급속</td>\n",
       "      <td>2021-01-01 00:04:00</td>\n",
       "      <td>2021-01-01 00:20:00</td>\n",
       "      <td>KPxxxx</td>\n",
       "      <td>3.14</td>\n",
       "      <td>...</td>\n",
       "      <td>공용</td>\n",
       "      <td>제주특별자치도 제주시 구좌읍 행원리 575-20</td>\n",
       "      <td>2021-01-01</td>\n",
       "      <td>2021-01-01</td>\n",
       "      <td>921</td>\n",
       "      <td>15</td>\n",
       "      <td>4</td>\n",
       "      <td>20</td>\n",
       "      <td>12.500000</td>\n",
       "      <td>-9.360000</td>\n",
       "    </tr>\n",
       "    <tr>\n",
       "      <th>1</th>\n",
       "      <td>한국전력</td>\n",
       "      <td>서귀포지사</td>\n",
       "      <td>KPxxxx</td>\n",
       "      <td>급속02</td>\n",
       "      <td>8819</td>\n",
       "      <td>급속</td>\n",
       "      <td>2021-01-01 00:46:00</td>\n",
       "      <td>2021-01-01 02:04:00</td>\n",
       "      <td>KPxxxx</td>\n",
       "      <td>36.39</td>\n",
       "      <td>...</td>\n",
       "      <td>공용</td>\n",
       "      <td>제주특별자치도 서귀포시 신중로 56</td>\n",
       "      <td>2021-01-01</td>\n",
       "      <td>2021-01-01</td>\n",
       "      <td>4653</td>\n",
       "      <td>77</td>\n",
       "      <td>46</td>\n",
       "      <td>124</td>\n",
       "      <td>64.166667</td>\n",
       "      <td>-27.776667</td>\n",
       "    </tr>\n",
       "    <tr>\n",
       "      <th>2</th>\n",
       "      <td>한국전력</td>\n",
       "      <td>화북주공2 아파트</td>\n",
       "      <td>KPxxxx</td>\n",
       "      <td>급속01</td>\n",
       "      <td>5844</td>\n",
       "      <td>급속</td>\n",
       "      <td>2021-01-01 01:23:00</td>\n",
       "      <td>2021-01-01 01:59:00</td>\n",
       "      <td>KPxxxx</td>\n",
       "      <td>20.58</td>\n",
       "      <td>...</td>\n",
       "      <td>아파트용</td>\n",
       "      <td>제주특별자치도 제주시 동화로1길 39</td>\n",
       "      <td>2021-01-01</td>\n",
       "      <td>2021-01-01</td>\n",
       "      <td>2157</td>\n",
       "      <td>35</td>\n",
       "      <td>83</td>\n",
       "      <td>119</td>\n",
       "      <td>29.166667</td>\n",
       "      <td>-8.586667</td>\n",
       "    </tr>\n",
       "    <tr>\n",
       "      <th>3</th>\n",
       "      <td>한국전력</td>\n",
       "      <td>영산홍주택</td>\n",
       "      <td>KPxxxx</td>\n",
       "      <td>급속01</td>\n",
       "      <td>7863</td>\n",
       "      <td>급속</td>\n",
       "      <td>2021-01-01 01:26:00</td>\n",
       "      <td>2021-01-01 04:57:00</td>\n",
       "      <td>KPxxxx</td>\n",
       "      <td>30.17</td>\n",
       "      <td>...</td>\n",
       "      <td>아파트용</td>\n",
       "      <td>제주특별자치도 제주시 이도2동 405</td>\n",
       "      <td>2021-01-01</td>\n",
       "      <td>2021-01-01</td>\n",
       "      <td>12661</td>\n",
       "      <td>211</td>\n",
       "      <td>86</td>\n",
       "      <td>297</td>\n",
       "      <td>175.833333</td>\n",
       "      <td>-145.663333</td>\n",
       "    </tr>\n",
       "    <tr>\n",
       "      <th>4</th>\n",
       "      <td>한국전력</td>\n",
       "      <td>제주도교육청</td>\n",
       "      <td>KPxxxx</td>\n",
       "      <td>급속02</td>\n",
       "      <td>8029</td>\n",
       "      <td>급속</td>\n",
       "      <td>2021-01-01 01:28:00</td>\n",
       "      <td>2021-01-01 03:07:00</td>\n",
       "      <td>KPxxxx</td>\n",
       "      <td>17.50</td>\n",
       "      <td>...</td>\n",
       "      <td>공용</td>\n",
       "      <td>제주특별자치도 제주시 연동 311-46</td>\n",
       "      <td>2021-01-01</td>\n",
       "      <td>2021-01-01</td>\n",
       "      <td>5918</td>\n",
       "      <td>98</td>\n",
       "      <td>88</td>\n",
       "      <td>187</td>\n",
       "      <td>81.666667</td>\n",
       "      <td>-64.166667</td>\n",
       "    </tr>\n",
       "    <tr>\n",
       "      <th>...</th>\n",
       "      <td>...</td>\n",
       "      <td>...</td>\n",
       "      <td>...</td>\n",
       "      <td>...</td>\n",
       "      <td>...</td>\n",
       "      <td>...</td>\n",
       "      <td>...</td>\n",
       "      <td>...</td>\n",
       "      <td>...</td>\n",
       "      <td>...</td>\n",
       "      <td>...</td>\n",
       "      <td>...</td>\n",
       "      <td>...</td>\n",
       "      <td>...</td>\n",
       "      <td>...</td>\n",
       "      <td>...</td>\n",
       "      <td>...</td>\n",
       "      <td>...</td>\n",
       "      <td>...</td>\n",
       "      <td>...</td>\n",
       "      <td>...</td>\n",
       "    </tr>\n",
       "    <tr>\n",
       "      <th>1057018</th>\n",
       "      <td>제주특별자치도</td>\n",
       "      <td>한국교통방송 제주본부</td>\n",
       "      <td>JD110036</td>\n",
       "      <td>한국교통방송 제주본부_02</td>\n",
       "      <td>2</td>\n",
       "      <td>DC콤보</td>\n",
       "      <td>2022-06-22 23:15:00</td>\n",
       "      <td>2022-06-22 23:47:00</td>\n",
       "      <td>0:32:23</td>\n",
       "      <td>21.15</td>\n",
       "      <td>...</td>\n",
       "      <td>공용</td>\n",
       "      <td>missing</td>\n",
       "      <td>2022-06-22</td>\n",
       "      <td>2022-06-22</td>\n",
       "      <td>1920</td>\n",
       "      <td>32</td>\n",
       "      <td>1395</td>\n",
       "      <td>1427</td>\n",
       "      <td>26.666667</td>\n",
       "      <td>-5.516667</td>\n",
       "    </tr>\n",
       "    <tr>\n",
       "      <th>1057019</th>\n",
       "      <td>제주특별자치도</td>\n",
       "      <td>구좌읍주민센터</td>\n",
       "      <td>JD100011</td>\n",
       "      <td>구좌읍주민센터_01</td>\n",
       "      <td>1</td>\n",
       "      <td>AC급속3상</td>\n",
       "      <td>2022-06-22 23:25:00</td>\n",
       "      <td>2022-06-22 23:36:00</td>\n",
       "      <td>0:10:45</td>\n",
       "      <td>6.71</td>\n",
       "      <td>...</td>\n",
       "      <td>공용</td>\n",
       "      <td>missing</td>\n",
       "      <td>2022-06-22</td>\n",
       "      <td>2022-06-22</td>\n",
       "      <td>660</td>\n",
       "      <td>11</td>\n",
       "      <td>1405</td>\n",
       "      <td>1416</td>\n",
       "      <td>9.166667</td>\n",
       "      <td>-2.456667</td>\n",
       "    </tr>\n",
       "    <tr>\n",
       "      <th>1057020</th>\n",
       "      <td>제주특별자치도</td>\n",
       "      <td>동화초등학교 공영주차장</td>\n",
       "      <td>JD110002</td>\n",
       "      <td>동화초등학교 공영주차장_01</td>\n",
       "      <td>1</td>\n",
       "      <td>DC차데모</td>\n",
       "      <td>2022-06-22 23:28:00</td>\n",
       "      <td>2022-06-22 23:39:00</td>\n",
       "      <td>0:10:59</td>\n",
       "      <td>5.34</td>\n",
       "      <td>...</td>\n",
       "      <td>공용</td>\n",
       "      <td>missing</td>\n",
       "      <td>2022-06-22</td>\n",
       "      <td>2022-06-22</td>\n",
       "      <td>660</td>\n",
       "      <td>11</td>\n",
       "      <td>1408</td>\n",
       "      <td>1419</td>\n",
       "      <td>9.166667</td>\n",
       "      <td>-3.826667</td>\n",
       "    </tr>\n",
       "    <tr>\n",
       "      <th>1057021</th>\n",
       "      <td>제주특별자치도</td>\n",
       "      <td>하귀1리공영주차장</td>\n",
       "      <td>JD110070</td>\n",
       "      <td>하귀1리공영주차장_02</td>\n",
       "      <td>2</td>\n",
       "      <td>AC급속3상</td>\n",
       "      <td>2022-06-22 23:32:00</td>\n",
       "      <td>2022-06-22 23:51:00</td>\n",
       "      <td>0:19:13</td>\n",
       "      <td>10.35</td>\n",
       "      <td>...</td>\n",
       "      <td>공용</td>\n",
       "      <td>missing</td>\n",
       "      <td>2022-06-22</td>\n",
       "      <td>2022-06-22</td>\n",
       "      <td>1140</td>\n",
       "      <td>19</td>\n",
       "      <td>1412</td>\n",
       "      <td>1431</td>\n",
       "      <td>15.833333</td>\n",
       "      <td>-5.483333</td>\n",
       "    </tr>\n",
       "    <tr>\n",
       "      <th>1057022</th>\n",
       "      <td>제주특별자치도</td>\n",
       "      <td>동부종합사회복지관</td>\n",
       "      <td>JD100028</td>\n",
       "      <td>동부종합사회복지관_02</td>\n",
       "      <td>2</td>\n",
       "      <td>DC콤보</td>\n",
       "      <td>2022-06-22 23:40:00</td>\n",
       "      <td>2022-06-22 23:53:00</td>\n",
       "      <td>0:13:25</td>\n",
       "      <td>8.13</td>\n",
       "      <td>...</td>\n",
       "      <td>공용</td>\n",
       "      <td>missing</td>\n",
       "      <td>2022-06-22</td>\n",
       "      <td>2022-06-22</td>\n",
       "      <td>780</td>\n",
       "      <td>13</td>\n",
       "      <td>1420</td>\n",
       "      <td>1433</td>\n",
       "      <td>10.833333</td>\n",
       "      <td>-2.703333</td>\n",
       "    </tr>\n",
       "  </tbody>\n",
       "</table>\n",
       "<p>1057023 rows × 21 columns</p>\n",
       "</div>"
      ],
      "text/plain": [
       "            운영기관          충전소명     충전소ID             충전기명  충전기ID   충전기타입  \\\n",
       "0           한국전력    스마트그리드 홍보관    KPxxxx             급속03    579      급속   \n",
       "1           한국전력         서귀포지사    KPxxxx             급속02   8819      급속   \n",
       "2           한국전력     화북주공2 아파트    KPxxxx             급속01   5844      급속   \n",
       "3           한국전력         영산홍주택    KPxxxx             급속01   7863      급속   \n",
       "4           한국전력        제주도교육청    KPxxxx             급속02   8029      급속   \n",
       "...          ...           ...       ...              ...    ...     ...   \n",
       "1057018  제주특별자치도   한국교통방송 제주본부  JD110036   한국교통방송 제주본부_02      2    DC콤보   \n",
       "1057019  제주특별자치도       구좌읍주민센터  JD100011       구좌읍주민센터_01      1  AC급속3상   \n",
       "1057020  제주특별자치도  동화초등학교 공영주차장  JD110002  동화초등학교 공영주차장_01      1   DC차데모   \n",
       "1057021  제주특별자치도     하귀1리공영주차장  JD110070     하귀1리공영주차장_02      2  AC급속3상   \n",
       "1057022  제주특별자치도     동부종합사회복지관  JD100028     동부종합사회복지관_02      2    DC콤보   \n",
       "\n",
       "                     충전시작시각              충전종료시각     충전시간    충전량  ...  충전소구분  \\\n",
       "0       2021-01-01 00:04:00 2021-01-01 00:20:00   KPxxxx   3.14  ...     공용   \n",
       "1       2021-01-01 00:46:00 2021-01-01 02:04:00   KPxxxx  36.39  ...     공용   \n",
       "2       2021-01-01 01:23:00 2021-01-01 01:59:00   KPxxxx  20.58  ...   아파트용   \n",
       "3       2021-01-01 01:26:00 2021-01-01 04:57:00   KPxxxx  30.17  ...   아파트용   \n",
       "4       2021-01-01 01:28:00 2021-01-01 03:07:00   KPxxxx  17.50  ...     공용   \n",
       "...                     ...                 ...      ...    ...  ...    ...   \n",
       "1057018 2022-06-22 23:15:00 2022-06-22 23:47:00  0:32:23  21.15  ...     공용   \n",
       "1057019 2022-06-22 23:25:00 2022-06-22 23:36:00  0:10:45   6.71  ...     공용   \n",
       "1057020 2022-06-22 23:28:00 2022-06-22 23:39:00  0:10:59   5.34  ...     공용   \n",
       "1057021 2022-06-22 23:32:00 2022-06-22 23:51:00  0:19:13  10.35  ...     공용   \n",
       "1057022 2022-06-22 23:40:00 2022-06-22 23:53:00  0:13:25   8.13  ...     공용   \n",
       "\n",
       "                                 주소     충전시작년월일     충전종료년월일    초차이  분차이  \\\n",
       "0        제주특별자치도 제주시 구좌읍 행원리 575-20  2021-01-01  2021-01-01    921   15   \n",
       "1               제주특별자치도 서귀포시 신중로 56  2021-01-01  2021-01-01   4653   77   \n",
       "2              제주특별자치도 제주시 동화로1길 39  2021-01-01  2021-01-01   2157   35   \n",
       "3              제주특별자치도 제주시 이도2동 405  2021-01-01  2021-01-01  12661  211   \n",
       "4             제주특별자치도 제주시 연동 311-46  2021-01-01  2021-01-01   5918   98   \n",
       "...                             ...         ...         ...    ...  ...   \n",
       "1057018                     missing  2022-06-22  2022-06-22   1920   32   \n",
       "1057019                     missing  2022-06-22  2022-06-22    660   11   \n",
       "1057020                     missing  2022-06-22  2022-06-22    660   11   \n",
       "1057021                     missing  2022-06-22  2022-06-22   1140   19   \n",
       "1057022                     missing  2022-06-22  2022-06-22    780   13   \n",
       "\n",
       "         충전시작분  충전종료분       최대충전량       충전량차이  \n",
       "0            4     20   12.500000   -9.360000  \n",
       "1           46    124   64.166667  -27.776667  \n",
       "2           83    119   29.166667   -8.586667  \n",
       "3           86    297  175.833333 -145.663333  \n",
       "4           88    187   81.666667  -64.166667  \n",
       "...        ...    ...         ...         ...  \n",
       "1057018   1395   1427   26.666667   -5.516667  \n",
       "1057019   1405   1416    9.166667   -2.456667  \n",
       "1057020   1408   1419    9.166667   -3.826667  \n",
       "1057021   1412   1431   15.833333   -5.483333  \n",
       "1057022   1420   1433   10.833333   -2.703333  \n",
       "\n",
       "[1057023 rows x 21 columns]"
      ]
     },
     "metadata": {},
     "output_type": "display_data"
    }
   ],
   "source": [
    "# 원본 데이터 Load\n",
    "\n",
    "filename_set = [\n",
    "    \"SKT_충전데이터_원본_한전_23.03.08\",\n",
    "    \"SKT_충전데이터_원본_환경부_제주도청_23.03.08\",\n",
    "]\n",
    "print(\"[*] Load the dataset\")\n",
    "\n",
    "raw_df = pd.DataFrame()\n",
    "for filename in filename_set:\n",
    "    df = pd.read_csv(\"%s.csv\" % filename, engine='python', encoding='cp949')\n",
    "    \n",
    "    raw_df = pd.concat([raw_df, df], axis=0)\n",
    "raw_df.reset_index(drop=True, inplace=True)\n",
    "\n",
    "raw_df[\"충전시작시각\"] = pd.to_datetime(raw_df[\"충전시작시각\"])\n",
    "raw_df[\"충전종료시각\"] = pd.to_datetime(raw_df[\"충전종료시각\"])\n",
    "\n",
    "ev_df = raw_df.copy()\n",
    "\n",
    "display(ev_df)"
   ]
  },
  {
   "cell_type": "markdown",
   "id": "07aba15e",
   "metadata": {},
   "source": [
    "## 이상치 제거 전"
   ]
  },
  {
   "cell_type": "code",
   "execution_count": 3,
   "id": "c5d24efe",
   "metadata": {},
   "outputs": [
    {
     "name": "stdout",
     "output_type": "stream",
     "text": [
      "1057023\n"
     ]
    },
    {
     "data": {
      "text/plain": [
       "<matplotlib.collections.PathCollection at 0x1a296ae29c8>"
      ]
     },
     "execution_count": 3,
     "metadata": {},
     "output_type": "execute_result"
    },
    {
     "data": {
      "image/png": "[encoded data removed]",
      "text/plain": [
       "<Figure size 432x288 with 1 Axes>"
      ]
     },
     "metadata": {
      "needs_background": "light"
     },
     "output_type": "display_data"
    }
   ],
   "source": [
    "print(len(ev_df))\n",
    "\n",
    "fig, ax = plt.subplots()\n",
    "ax.scatter(ev_df['분차이'], ev_df['충전량'], s=5, c='b')"
   ]
  },
  {
   "cell_type": "markdown",
   "id": "5c9df655",
   "metadata": {},
   "source": [
    "## 이상치 제거 1"
   ]
  },
  {
   "cell_type": "code",
   "execution_count": 4,
   "id": "9cf582ee",
   "metadata": {},
   "outputs": [
    {
     "name": "stdout",
     "output_type": "stream",
     "text": [
      "1057008\n"
     ]
    },
    {
     "data": {
      "text/plain": [
       "<matplotlib.collections.PathCollection at 0x1a2afdcf208>"
      ]
     },
     "execution_count": 4,
     "metadata": {},
     "output_type": "execute_result"
    },
    {
     "data": {
      "image/png": "[encoded data removed]",
      "text/plain": [
       "<Figure size 432x288 with 1 Axes>"
      ]
     },
     "metadata": {
      "needs_background": "light"
     },
     "output_type": "display_data"
    }
   ],
   "source": [
    "# 이상치 제거 1\n",
    "\n",
    "idx = list(ev_df.loc[ev_df['초차이'] < 0, :].index)\n",
    "ev_df.drop(idx, axis=0, inplace=True)\n",
    "\n",
    "print(len(ev_df))\n",
    "\n",
    "fig, ax = plt.subplots()\n",
    "ax.scatter(ev_df['분차이'], ev_df['충전량'], s=5, c='b')"
   ]
  },
  {
   "cell_type": "markdown",
   "id": "fcb74002",
   "metadata": {},
   "source": [
    "## 이상치 제거 2\n",
    "- 충전량 2, 75"
   ]
  },
  {
   "cell_type": "code",
   "execution_count": 5,
   "id": "a9fe2f50",
   "metadata": {},
   "outputs": [
    {
     "name": "stdout",
     "output_type": "stream",
     "text": [
      "1003696\n"
     ]
    },
    {
     "data": {
      "text/plain": [
       "<matplotlib.collections.PathCollection at 0x1a2afdcf388>"
      ]
     },
     "execution_count": 5,
     "metadata": {},
     "output_type": "execute_result"
    },
    {
     "data": {
      "image/png": "[encoded data removed]",
      "text/plain": [
       "<Figure size 432x288 with 1 Axes>"
      ]
     },
     "metadata": {
      "needs_background": "light"
     },
     "output_type": "display_data"
    }
   ],
   "source": [
    "# 이상치 제거 2\n",
    "\n",
    "idx = list(ev_df.loc[(ev_df['충전량'] < 2) | (ev_df['충전량'] > 75), :].index)\n",
    "ev_df.drop(idx, axis=0, inplace=True)\n",
    "\n",
    "print(len(ev_df))\n",
    "\n",
    "fig, ax = plt.subplots()\n",
    "ax.scatter(ev_df['분차이'], ev_df['충전량'], s=5, c='b')"
   ]
  },
  {
   "cell_type": "markdown",
   "id": "155b43a3",
   "metadata": {},
   "source": [
    "## 이상치 제거 3\n",
    "- 충전시간 : 3분 미만, 120분 초과"
   ]
  },
  {
   "cell_type": "code",
   "execution_count": 6,
   "id": "6efc17d0",
   "metadata": {},
   "outputs": [
    {
     "name": "stdout",
     "output_type": "stream",
     "text": [
      "987592\n"
     ]
    },
    {
     "data": {
      "text/plain": [
       "<matplotlib.collections.PathCollection at 0x1a2afed3a08>"
      ]
     },
     "execution_count": 6,
     "metadata": {},
     "output_type": "execute_result"
    },
    {
     "data": {
      "image/png": "[encoded data removed]",
      "text/plain": [
       "<Figure size 432x288 with 1 Axes>"
      ]
     },
     "metadata": {
      "needs_background": "light"
     },
     "output_type": "display_data"
    }
   ],
   "source": [
    "# 이상치 제거 3\n",
    "\n",
    "idx = list(ev_df.loc[(ev_df['분차이'] < 3) | (ev_df['분차이'] > 120), :].index)\n",
    "ev_df.drop(idx, axis=0, inplace=True)\n",
    "\n",
    "print(len(ev_df))\n",
    "\n",
    "fig, ax = plt.subplots()\n",
    "ax.scatter(ev_df['분차이'], ev_df['충전량'], s=5, c='b')"
   ]
  },
  {
   "cell_type": "markdown",
   "id": "c754f76c",
   "metadata": {},
   "source": [
    "## 이상치 제거 4\n",
    "- 측정된 충전량이 최대 충전량보다 3 kWh 큰 경우 : 삭제\n",
    "- 측정된 충전량이 최대 충전량보다 3 kWh 작은 경우 : 최대 충전량으로 변경\n",
    "- '충전량차이' = 충전량 - 최대충전량으로 음수가 나와야 정상"
   ]
  },
  {
   "cell_type": "code",
   "execution_count": 7,
   "id": "52d157e0",
   "metadata": {},
   "outputs": [
    {
     "name": "stdout",
     "output_type": "stream",
     "text": [
      "972258\n"
     ]
    },
    {
     "data": {
      "text/plain": [
       "<matplotlib.collections.PathCollection at 0x1a2affa95c8>"
      ]
     },
     "execution_count": 7,
     "metadata": {},
     "output_type": "execute_result"
    },
    {
     "data": {
      "image/png": "[encoded data removed]",
      "text/plain": [
       "<Figure size 432x288 with 1 Axes>"
      ]
     },
     "metadata": {
      "needs_background": "light"
     },
     "output_type": "display_data"
    }
   ],
   "source": [
    "# 이상치 제거 4\n",
    "\n",
    "idx = list(ev_df.loc[ev_df['충전량차이'] > 3, :].index)\n",
    "ev_df.drop(idx, axis=0, inplace=True)\n",
    "\n",
    "replace = ev_df.loc[ev_df['충전량차이'] > 0, '최대충전량']\n",
    "idx, v = list(replace.index), replace.values\n",
    "\n",
    "ev_df.loc[idx, '충전량'] = v\n",
    "\n",
    "print(len(ev_df))\n",
    "\n",
    "fig, ax = plt.subplots()\n",
    "ax.scatter(ev_df['분차이'], ev_df['충전량'], s=5, c='b')"
   ]
  },
  {
   "cell_type": "code",
   "execution_count": null,
   "id": "d61a8168",
   "metadata": {},
   "outputs": [],
   "source": []
  }
 ],
 "metadata": {
  "kernelspec": {
   "display_name": "Python 3 (ipykernel)",
   "language": "python",
   "name": "python3"
  },
  "language_info": {
   "codemirror_mode": {
    "name": "ipython",
    "version": 3
   },
   "file_extension": ".py",
   "mimetype": "text/x-python",
   "name": "python",
   "nbconvert_exporter": "python",
   "pygments_lexer": "ipython3",
   "version": "3.7.13"
  }
 },
 "nbformat": 4,
 "nbformat_minor": 5
}
